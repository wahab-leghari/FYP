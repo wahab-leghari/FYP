{
 "cells": [
  {
   "cell_type": "markdown",
   "metadata": {},
   "source": [
    " # FAKE NEWS DETECTION"
   ]
  },
  {
   "cell_type": "markdown",
   "metadata": {},
   "source": [
    " # Abdul Wahab\n",
    "# 131-FBAS/BSIT4/F16"
   ]
  },
  {
   "cell_type": "markdown",
   "metadata": {},
   "source": [
    "# LABELS\n",
    "## 1: Fake\n",
    "## 0: Real"
   ]
  },
  {
   "cell_type": "markdown",
   "metadata": {},
   "source": [
    " # Importing Liberaries"
   ]
  },
  {
   "cell_type": "code",
   "execution_count": 1,
   "metadata": {},
   "outputs": [],
   "source": [
    "# data processing, CSV file I/O (e.g. pd.read_csv)\n",
    "import pandas as pd \n",
    "# linear algebra\n",
    "import numpy as np \n",
    "import re, string, unicodedata\n",
    "import nltk\n",
    "import inflect\n",
    "from bs4 import BeautifulSoup\n",
    "from nltk import word_tokenize, sent_tokenize\n",
    "from nltk.corpus import stopwords\n",
    "from nltk.stem import LancasterStemmer, WordNetLemmatizer\n",
    "import pickle\n",
    "import matplotlib.pyplot as plt\n",
    "import warnings\n",
    "warnings.filterwarnings(\"ignore\")\n",
    "%matplotlib inline "
   ]
  },
  {
   "cell_type": "markdown",
   "metadata": {},
   "source": [
    " # Loading Data Files"
   ]
  },
  {
   "cell_type": "code",
   "execution_count": 2,
   "metadata": {},
   "outputs": [
    {
     "name": "stdout",
     "output_type": "stream",
     "text": [
      "<class 'pandas.core.frame.DataFrame'>\n",
      "Int64Index: 20800 entries, 0 to 20799\n",
      "Data columns (total 3 columns):\n",
      "title    20800 non-null object\n",
      "text     20800 non-null object\n",
      "label    20800 non-null int64\n",
      "dtypes: int64(1), object(2)\n",
      "memory usage: 650.0+ KB\n"
     ]
    },
    {
     "data": {
      "text/html": [
       "<div>\n",
       "<style scoped>\n",
       "    .dataframe tbody tr th:only-of-type {\n",
       "        vertical-align: middle;\n",
       "    }\n",
       "\n",
       "    .dataframe tbody tr th {\n",
       "        vertical-align: top;\n",
       "    }\n",
       "\n",
       "    .dataframe thead th {\n",
       "        text-align: right;\n",
       "    }\n",
       "</style>\n",
       "<table border=\"1\" class=\"dataframe\">\n",
       "  <thead>\n",
       "    <tr style=\"text-align: right;\">\n",
       "      <th></th>\n",
       "      <th>article</th>\n",
       "      <th>label</th>\n",
       "    </tr>\n",
       "    <tr>\n",
       "      <th>id</th>\n",
       "      <th></th>\n",
       "      <th></th>\n",
       "    </tr>\n",
       "  </thead>\n",
       "  <tbody>\n",
       "    <tr>\n",
       "      <th>0</th>\n",
       "      <td>House Dem Aide: We Didn’t Even See Comey’s Let...</td>\n",
       "      <td>1</td>\n",
       "    </tr>\n",
       "    <tr>\n",
       "      <th>1</th>\n",
       "      <td>FLYNN: Hillary Clinton, Big Woman on Campus - ...</td>\n",
       "      <td>0</td>\n",
       "    </tr>\n",
       "    <tr>\n",
       "      <th>2</th>\n",
       "      <td>Why the Truth Might Get You FiredWhy the Truth...</td>\n",
       "      <td>1</td>\n",
       "    </tr>\n",
       "    <tr>\n",
       "      <th>3</th>\n",
       "      <td>15 Civilians Killed In Single US Airstrike Hav...</td>\n",
       "      <td>1</td>\n",
       "    </tr>\n",
       "    <tr>\n",
       "      <th>4</th>\n",
       "      <td>Iranian woman jailed for fictional unpublished...</td>\n",
       "      <td>1</td>\n",
       "    </tr>\n",
       "    <tr>\n",
       "      <th>5</th>\n",
       "      <td>Jackie Mason: Hollywood Would Love Trump if He...</td>\n",
       "      <td>0</td>\n",
       "    </tr>\n",
       "    <tr>\n",
       "      <th>6</th>\n",
       "      <td>Life: Life Of Luxury: Elton John’s 6 Favorite ...</td>\n",
       "      <td>1</td>\n",
       "    </tr>\n",
       "    <tr>\n",
       "      <th>7</th>\n",
       "      <td>Benoît Hamon Wins French Socialist Party’s Pre...</td>\n",
       "      <td>0</td>\n",
       "    </tr>\n",
       "    <tr>\n",
       "      <th>8</th>\n",
       "      <td>Excerpts From a Draft Script for Donald Trump’...</td>\n",
       "      <td>0</td>\n",
       "    </tr>\n",
       "    <tr>\n",
       "      <th>9</th>\n",
       "      <td>A Back-Channel Plan for Ukraine and Russia, Co...</td>\n",
       "      <td>0</td>\n",
       "    </tr>\n",
       "    <tr>\n",
       "      <th>10</th>\n",
       "      <td>Obama’s Organizing for Action Partners with So...</td>\n",
       "      <td>0</td>\n",
       "    </tr>\n",
       "    <tr>\n",
       "      <th>11</th>\n",
       "      <td>BBC Comedy Sketch \"Real Housewives of ISIS\" Ca...</td>\n",
       "      <td>0</td>\n",
       "    </tr>\n",
       "    <tr>\n",
       "      <th>12</th>\n",
       "      <td>Russian Researchers Discover Secret Nazi Milit...</td>\n",
       "      <td>1</td>\n",
       "    </tr>\n",
       "    <tr>\n",
       "      <th>13</th>\n",
       "      <td>US Officials See No Link Between Trump and Rus...</td>\n",
       "      <td>1</td>\n",
       "    </tr>\n",
       "    <tr>\n",
       "      <th>14</th>\n",
       "      <td>Re: Yes, There Are Paid Government Trolls On S...</td>\n",
       "      <td>1</td>\n",
       "    </tr>\n",
       "    <tr>\n",
       "      <th>15</th>\n",
       "      <td>In Major League Soccer, Argentines Find a Home...</td>\n",
       "      <td>0</td>\n",
       "    </tr>\n",
       "    <tr>\n",
       "      <th>16</th>\n",
       "      <td>Wells Fargo Chief Abruptly Steps Down - The Ne...</td>\n",
       "      <td>0</td>\n",
       "    </tr>\n",
       "    <tr>\n",
       "      <th>17</th>\n",
       "      <td>Anonymous Donor Pays $2.5 Million To Release E...</td>\n",
       "      <td>1</td>\n",
       "    </tr>\n",
       "    <tr>\n",
       "      <th>18</th>\n",
       "      <td>FBI Closes In On Hillary!FBI Closes In On Hill...</td>\n",
       "      <td>1</td>\n",
       "    </tr>\n",
       "    <tr>\n",
       "      <th>19</th>\n",
       "      <td>Chuck Todd: ’BuzzFeed Did Donald Trump a Polit...</td>\n",
       "      <td>0</td>\n",
       "    </tr>\n",
       "    <tr>\n",
       "      <th>20</th>\n",
       "      <td>News: Hope For The GOP: A Nude Paul Ryan Has J...</td>\n",
       "      <td>1</td>\n",
       "    </tr>\n",
       "    <tr>\n",
       "      <th>21</th>\n",
       "      <td>Monica Lewinsky, Clinton Sex Scandal Set for ’...</td>\n",
       "      <td>0</td>\n",
       "    </tr>\n",
       "    <tr>\n",
       "      <th>22</th>\n",
       "      <td>Rob Reiner: Trump Is ’Mentally Unstable’ - Bre...</td>\n",
       "      <td>0</td>\n",
       "    </tr>\n",
       "    <tr>\n",
       "      <th>23</th>\n",
       "      <td>Massachusetts Cop’s Wife Busted for Pinning Fa...</td>\n",
       "      <td>1</td>\n",
       "    </tr>\n",
       "    <tr>\n",
       "      <th>24</th>\n",
       "      <td>Abortion Pill Orders Rise in 7 Latin American ...</td>\n",
       "      <td>0</td>\n",
       "    </tr>\n",
       "    <tr>\n",
       "      <th>25</th>\n",
       "      <td>Nukes and the UN: a Historic Treaty to Ban Nuc...</td>\n",
       "      <td>1</td>\n",
       "    </tr>\n",
       "    <tr>\n",
       "      <th>26</th>\n",
       "      <td>EXCLUSIVE: Islamic State Supporters Vow to ‘Sh...</td>\n",
       "      <td>0</td>\n",
       "    </tr>\n",
       "    <tr>\n",
       "      <th>27</th>\n",
       "      <td>Humiliated Hillary Tries To Hide What Camera C...</td>\n",
       "      <td>1</td>\n",
       "    </tr>\n",
       "    <tr>\n",
       "      <th>28</th>\n",
       "      <td>Andrea Tantaros of Fox News Claims Retaliation...</td>\n",
       "      <td>0</td>\n",
       "    </tr>\n",
       "    <tr>\n",
       "      <th>29</th>\n",
       "      <td>How Hillary Clinton Became a Hawk - The New Yo...</td>\n",
       "      <td>0</td>\n",
       "    </tr>\n",
       "    <tr>\n",
       "      <th>...</th>\n",
       "      <td>...</td>\n",
       "      <td>...</td>\n",
       "    </tr>\n",
       "    <tr>\n",
       "      <th>20770</th>\n",
       "      <td>HUMA ABEDIN SWORE UNDER OATH SHE GAVE UP ‘ALL ...</td>\n",
       "      <td>1</td>\n",
       "    </tr>\n",
       "    <tr>\n",
       "      <th>20771</th>\n",
       "      <td>DYN's Statement on Last Week's Botnet Attack ...</td>\n",
       "      <td>1</td>\n",
       "    </tr>\n",
       "    <tr>\n",
       "      <th>20772</th>\n",
       "      <td>Kinda reminds me of when Carter gave away the...</td>\n",
       "      <td>1</td>\n",
       "    </tr>\n",
       "    <tr>\n",
       "      <th>20773</th>\n",
       "      <td>Australia to hunt down anti-vax nurses and pro...</td>\n",
       "      <td>1</td>\n",
       "    </tr>\n",
       "    <tr>\n",
       "      <th>20774</th>\n",
       "      <td>Government Report: Islamists Building ’Paralle...</td>\n",
       "      <td>0</td>\n",
       "    </tr>\n",
       "    <tr>\n",
       "      <th>20775</th>\n",
       "      <td>How this WWII airman is helping veterans heal ...</td>\n",
       "      <td>1</td>\n",
       "    </tr>\n",
       "    <tr>\n",
       "      <th>20776</th>\n",
       "      <td>Trump Campaign Says Hillary Supporter Tried As...</td>\n",
       "      <td>1</td>\n",
       "    </tr>\n",
       "    <tr>\n",
       "      <th>20777</th>\n",
       "      <td>Editor of Austria’s Largest Paper Charged with...</td>\n",
       "      <td>1</td>\n",
       "    </tr>\n",
       "    <tr>\n",
       "      <th>20778</th>\n",
       "      <td>This Is a Jobs Report That Democrats Can Boast...</td>\n",
       "      <td>0</td>\n",
       "    </tr>\n",
       "    <tr>\n",
       "      <th>20779</th>\n",
       "      <td>Christians in 2017 ’Most Persecuted Group in t...</td>\n",
       "      <td>0</td>\n",
       "    </tr>\n",
       "    <tr>\n",
       "      <th>20780</th>\n",
       "      <td>Florida Woman Charged in Death of Infant in ‘C...</td>\n",
       "      <td>0</td>\n",
       "    </tr>\n",
       "    <tr>\n",
       "      <th>20781</th>\n",
       "      <td>Time is Running Out to Stop Kratom Ban – Need ...</td>\n",
       "      <td>1</td>\n",
       "    </tr>\n",
       "    <tr>\n",
       "      <th>20782</th>\n",
       "      <td>The Fix Is In: NBC Affiliate Accidentally Post...</td>\n",
       "      <td>1</td>\n",
       "    </tr>\n",
       "    <tr>\n",
       "      <th>20783</th>\n",
       "      <td>Samsung, Kim Jong-un, Rex Tillerson: Your Morn...</td>\n",
       "      <td>0</td>\n",
       "    </tr>\n",
       "    <tr>\n",
       "      <th>20784</th>\n",
       "      <td>Comment on World Heaves Sigh of Relief after T...</td>\n",
       "      <td>1</td>\n",
       "    </tr>\n",
       "    <tr>\n",
       "      <th>20785</th>\n",
       "      <td>Ann Coulter: How to Provide Universal Health C...</td>\n",
       "      <td>0</td>\n",
       "    </tr>\n",
       "    <tr>\n",
       "      <th>20786</th>\n",
       "      <td>Government Forces Advancing at Damascus-Aleppo...</td>\n",
       "      <td>1</td>\n",
       "    </tr>\n",
       "    <tr>\n",
       "      <th>20787</th>\n",
       "      <td>Sally Yates Won’t Say If Trump Was Wiretapped ...</td>\n",
       "      <td>0</td>\n",
       "    </tr>\n",
       "    <tr>\n",
       "      <th>20788</th>\n",
       "      <td>Maine’s Gov. LePage Threatens To ‘Investigate’...</td>\n",
       "      <td>1</td>\n",
       "    </tr>\n",
       "    <tr>\n",
       "      <th>20789</th>\n",
       "      <td>Sen. McConnell: The Supreme Court Vacancy Was ...</td>\n",
       "      <td>0</td>\n",
       "    </tr>\n",
       "    <tr>\n",
       "      <th>20790</th>\n",
       "      <td>Nikki Haley Blasts U.N. Human Rights Office fo...</td>\n",
       "      <td>0</td>\n",
       "    </tr>\n",
       "    <tr>\n",
       "      <th>20791</th>\n",
       "      <td>Lawyer Who Kept Hillary Campaign Chief Out of ...</td>\n",
       "      <td>1</td>\n",
       "    </tr>\n",
       "    <tr>\n",
       "      <th>20792</th>\n",
       "      <td>Jakarta Bombing Kills Three Police Officers, L...</td>\n",
       "      <td>0</td>\n",
       "    </tr>\n",
       "    <tr>\n",
       "      <th>20793</th>\n",
       "      <td>Idiot Who Destroyed Trump Hollywood Star Gets ...</td>\n",
       "      <td>1</td>\n",
       "    </tr>\n",
       "    <tr>\n",
       "      <th>20794</th>\n",
       "      <td>Trump: Putin ’Very Smart’ to Not Retaliate ove...</td>\n",
       "      <td>0</td>\n",
       "    </tr>\n",
       "    <tr>\n",
       "      <th>20795</th>\n",
       "      <td>Rapper T.I.: Trump a ’Poster Child For White S...</td>\n",
       "      <td>0</td>\n",
       "    </tr>\n",
       "    <tr>\n",
       "      <th>20796</th>\n",
       "      <td>N.F.L. Playoffs: Schedule, Matchups and Odds -...</td>\n",
       "      <td>0</td>\n",
       "    </tr>\n",
       "    <tr>\n",
       "      <th>20797</th>\n",
       "      <td>Macy’s Is Said to Receive Takeover Approach by...</td>\n",
       "      <td>0</td>\n",
       "    </tr>\n",
       "    <tr>\n",
       "      <th>20798</th>\n",
       "      <td>NATO, Russia To Hold Parallel Exercises In Bal...</td>\n",
       "      <td>1</td>\n",
       "    </tr>\n",
       "    <tr>\n",
       "      <th>20799</th>\n",
       "      <td>What Keeps the F-35 Alive  David Swanson is an...</td>\n",
       "      <td>1</td>\n",
       "    </tr>\n",
       "  </tbody>\n",
       "</table>\n",
       "<p>20800 rows × 2 columns</p>\n",
       "</div>"
      ],
      "text/plain": [
       "                                                 article  label\n",
       "id                                                             \n",
       "0      House Dem Aide: We Didn’t Even See Comey’s Let...      1\n",
       "1      FLYNN: Hillary Clinton, Big Woman on Campus - ...      0\n",
       "2      Why the Truth Might Get You FiredWhy the Truth...      1\n",
       "3      15 Civilians Killed In Single US Airstrike Hav...      1\n",
       "4      Iranian woman jailed for fictional unpublished...      1\n",
       "5      Jackie Mason: Hollywood Would Love Trump if He...      0\n",
       "6      Life: Life Of Luxury: Elton John’s 6 Favorite ...      1\n",
       "7      Benoît Hamon Wins French Socialist Party’s Pre...      0\n",
       "8      Excerpts From a Draft Script for Donald Trump’...      0\n",
       "9      A Back-Channel Plan for Ukraine and Russia, Co...      0\n",
       "10     Obama’s Organizing for Action Partners with So...      0\n",
       "11     BBC Comedy Sketch \"Real Housewives of ISIS\" Ca...      0\n",
       "12     Russian Researchers Discover Secret Nazi Milit...      1\n",
       "13     US Officials See No Link Between Trump and Rus...      1\n",
       "14     Re: Yes, There Are Paid Government Trolls On S...      1\n",
       "15     In Major League Soccer, Argentines Find a Home...      0\n",
       "16     Wells Fargo Chief Abruptly Steps Down - The Ne...      0\n",
       "17     Anonymous Donor Pays $2.5 Million To Release E...      1\n",
       "18     FBI Closes In On Hillary!FBI Closes In On Hill...      1\n",
       "19     Chuck Todd: ’BuzzFeed Did Donald Trump a Polit...      0\n",
       "20     News: Hope For The GOP: A Nude Paul Ryan Has J...      1\n",
       "21     Monica Lewinsky, Clinton Sex Scandal Set for ’...      0\n",
       "22     Rob Reiner: Trump Is ’Mentally Unstable’ - Bre...      0\n",
       "23     Massachusetts Cop’s Wife Busted for Pinning Fa...      1\n",
       "24     Abortion Pill Orders Rise in 7 Latin American ...      0\n",
       "25     Nukes and the UN: a Historic Treaty to Ban Nuc...      1\n",
       "26     EXCLUSIVE: Islamic State Supporters Vow to ‘Sh...      0\n",
       "27     Humiliated Hillary Tries To Hide What Camera C...      1\n",
       "28     Andrea Tantaros of Fox News Claims Retaliation...      0\n",
       "29     How Hillary Clinton Became a Hawk - The New Yo...      0\n",
       "...                                                  ...    ...\n",
       "20770  HUMA ABEDIN SWORE UNDER OATH SHE GAVE UP ‘ALL ...      1\n",
       "20771   DYN's Statement on Last Week's Botnet Attack ...      1\n",
       "20772   Kinda reminds me of when Carter gave away the...      1\n",
       "20773  Australia to hunt down anti-vax nurses and pro...      1\n",
       "20774  Government Report: Islamists Building ’Paralle...      0\n",
       "20775  How this WWII airman is helping veterans heal ...      1\n",
       "20776  Trump Campaign Says Hillary Supporter Tried As...      1\n",
       "20777  Editor of Austria’s Largest Paper Charged with...      1\n",
       "20778  This Is a Jobs Report That Democrats Can Boast...      0\n",
       "20779  Christians in 2017 ’Most Persecuted Group in t...      0\n",
       "20780  Florida Woman Charged in Death of Infant in ‘C...      0\n",
       "20781  Time is Running Out to Stop Kratom Ban – Need ...      1\n",
       "20782  The Fix Is In: NBC Affiliate Accidentally Post...      1\n",
       "20783  Samsung, Kim Jong-un, Rex Tillerson: Your Morn...      0\n",
       "20784  Comment on World Heaves Sigh of Relief after T...      1\n",
       "20785  Ann Coulter: How to Provide Universal Health C...      0\n",
       "20786  Government Forces Advancing at Damascus-Aleppo...      1\n",
       "20787  Sally Yates Won’t Say If Trump Was Wiretapped ...      0\n",
       "20788  Maine’s Gov. LePage Threatens To ‘Investigate’...      1\n",
       "20789  Sen. McConnell: The Supreme Court Vacancy Was ...      0\n",
       "20790  Nikki Haley Blasts U.N. Human Rights Office fo...      0\n",
       "20791  Lawyer Who Kept Hillary Campaign Chief Out of ...      1\n",
       "20792  Jakarta Bombing Kills Three Police Officers, L...      0\n",
       "20793  Idiot Who Destroyed Trump Hollywood Star Gets ...      1\n",
       "20794  Trump: Putin ’Very Smart’ to Not Retaliate ove...      0\n",
       "20795  Rapper T.I.: Trump a ’Poster Child For White S...      0\n",
       "20796  N.F.L. Playoffs: Schedule, Matchups and Odds -...      0\n",
       "20797  Macy’s Is Said to Receive Takeover Approach by...      0\n",
       "20798  NATO, Russia To Hold Parallel Exercises In Bal...      1\n",
       "20799  What Keeps the F-35 Alive  David Swanson is an...      1\n",
       "\n",
       "[20800 rows x 2 columns]"
      ]
     },
     "execution_count": 2,
     "metadata": {},
     "output_type": "execute_result"
    }
   ],
   "source": [
    "data=pd.read_csv('train.csv', index_col = \"id\")\n",
    "data=data.fillna(' ')\n",
    "data = data[[\"title\", \"text\", \"label\"]]\n",
    "data.info()\n",
    "data[\"article\"] = data[\"title\"] + data[\"text\"]\n",
    "data = data[[\"article\", \"label\"]]\n",
    "data"
   ]
  },
  {
   "cell_type": "markdown",
   "metadata": {},
   "source": [
    "# Data Preprocessing"
   ]
  },
  {
   "cell_type": "code",
   "execution_count": 3,
   "metadata": {},
   "outputs": [],
   "source": [
    "\n",
    "\n",
    "# some errors in row 4643 in the TEXT column so I replace with custom Text\n",
    "\n",
    "data.drop(4642 , inplace = True)\n",
    "\n",
    "#data.ix[4642, \"text\"] = \"Replacing some text\"\n"
   ]
  },
  {
   "cell_type": "code",
   "execution_count": 4,
   "metadata": {
    "scrolled": true
   },
   "outputs": [
    {
     "name": "stdout",
     "output_type": "stream",
     "text": [
      "The Stop words in English are:\n",
      "\n",
      "['i', 'me', 'my', 'myself', 'we', 'our', 'ours', 'ourselves', 'you', \"you're\", \"you've\", \"you'll\", \"you'd\", 'your', 'yours', 'yourself', 'yourselves', 'he', 'him', 'his', 'himself', 'she', \"she's\", 'her', 'hers', 'herself', 'it', \"it's\", 'its', 'itself', 'they', 'them', 'their', 'theirs', 'themselves', 'what', 'which', 'who', 'whom', 'this', 'that', \"that'll\", 'these', 'those', 'am', 'is', 'are', 'was', 'were', 'be', 'been', 'being', 'have', 'has', 'had', 'having', 'do', 'does', 'did', 'doing', 'a', 'an', 'the', 'and', 'but', 'if', 'or', 'because', 'as', 'until', 'while', 'of', 'at', 'by', 'for', 'with', 'about', 'against', 'between', 'into', 'through', 'during', 'before', 'after', 'above', 'below', 'to', 'from', 'up', 'down', 'in', 'out', 'on', 'off', 'over', 'under', 'again', 'further', 'then', 'once', 'here', 'there', 'when', 'where', 'why', 'how', 'all', 'any', 'both', 'each', 'few', 'more', 'most', 'other', 'some', 'such', 'no', 'nor', 'not', 'only', 'own', 'same', 'so', 'than', 'too', 'very', 's', 't', 'can', 'will', 'just', 'don', \"don't\", 'should', \"should've\", 'now', 'd', 'll', 'm', 'o', 're', 've', 'y', 'ain', 'aren', \"aren't\", 'couldn', \"couldn't\", 'didn', \"didn't\", 'doesn', \"doesn't\", 'hadn', \"hadn't\", 'hasn', \"hasn't\", 'haven', \"haven't\", 'isn', \"isn't\", 'ma', 'mightn', \"mightn't\", 'mustn', \"mustn't\", 'needn', \"needn't\", 'shan', \"shan't\", 'shouldn', \"shouldn't\", 'wasn', \"wasn't\", 'weren', \"weren't\", 'won', \"won't\", 'wouldn', \"wouldn't\"]\n",
      "\n",
      "\n"
     ]
    }
   ],
   "source": [
    "def remove_non_ascii(words):\n",
    "    \"\"\"Remove non-ASCII characters from list of tokenized words\"\"\"\n",
    "    new_words = []\n",
    "    for word in words:\n",
    "        new_word = unicodedata.normalize('NFKD', word).encode('ascii', 'ignore').decode('utf-8', 'ignore')\n",
    "        new_words.append(new_word)\n",
    "    return new_words\n",
    "\n",
    "def to_lowercase(words):\n",
    "    \"\"\"Convert all characters to lowercase from list of tokenized words\"\"\"\n",
    "    new_words = []\n",
    "    for word in words:\n",
    "        new_word = word.lower()\n",
    "        new_words.append(new_word)\n",
    "    return new_words\n",
    "\n",
    "def remove_punctuation(words):\n",
    "    \"\"\"Remove punctuation from list of tokenized words\"\"\"\n",
    "    new_words = []\n",
    "    for word in words:\n",
    "        new_word = re.sub(r'[^\\w\\s]', '', word)\n",
    "        if new_word != '':\n",
    "            new_words.append(new_word)\n",
    "    return new_words\n",
    "\n",
    "def replace_numbers(words):\n",
    "    \"\"\"Replace all interger occurrences in list of tokenized words with textual representation\"\"\"\n",
    "    p = inflect.engine()\n",
    "    new_words = []\n",
    "    for word in words:\n",
    "        if word.isdigit():\n",
    "            new_word = p.number_to_words(word)\n",
    "            new_words.append(new_word)\n",
    "        else:\n",
    "            new_words.append(word)\n",
    "    return new_words\n",
    "\n",
    "print(\"The Stop words in English are:\\n\")\n",
    "print(stopwords.words(\"english\"))\n",
    "print(\"\\n\")\n",
    "\n",
    "def remove_stopwords(words):\n",
    "    \"\"\"Remove stop words from list of tokenized words\"\"\"\n",
    "    new_words = []\n",
    "    for word in words:\n",
    "        if word not in stopwords.words('english'):\n",
    "            new_words.append(word)\n",
    "    return new_words\n",
    "\n",
    "def stem_words(words):\n",
    "    \"\"\"Stem words in list of tokenized words\"\"\"\n",
    "    stemmer = LancasterStemmer()\n",
    "    stems = []\n",
    "    for word in words:\n",
    "        stem = stemmer.stem(word)\n",
    "        stems.append(stem)\n",
    "    return stems\n",
    "\n",
    "def lemmatize_verbs(words):\n",
    "    \"\"\"Lemmatize verbs in list of tokenized words\"\"\"\n",
    "    lemmatizer = WordNetLemmatizer()\n",
    "    lemmas = []\n",
    "    for word in words:\n",
    "        lemma = lemmatizer.lemmatize(word, pos='v')\n",
    "        lemmas.append(lemma)\n",
    "    return lemmas\n",
    "\n",
    "    "
   ]
  },
  {
   "cell_type": "markdown",
   "metadata": {},
   "source": [
    " # Features Extraction"
   ]
  },
  {
   "cell_type": "code",
   "execution_count": 5,
   "metadata": {},
   "outputs": [],
   "source": [
    "corpus = []\n",
    "def normalize(words):\n",
    "    words = remove_non_ascii(words)\n",
    "    words = to_lowercase(words)\n",
    "    words = remove_punctuation(words)\n",
    "    words = replace_numbers(words)\n",
    "    words = remove_stopwords(words)\n",
    "    words = stem_words(words)\n",
    "    words = lemmatize_verbs(words)\n",
    "    words = ' '.join(words)\n",
    "    corpus.append(words)\n",
    "    return words\n",
    "#data[\"article\"] = data[\"title\"] + data[\"text\"]\n",
    "for index, row in data.iterrows():\n",
    "    \n",
    "    normalize(row['article'].split(' '))\n",
    "    "
   ]
  },
  {
   "cell_type": "code",
   "execution_count": 6,
   "metadata": {},
   "outputs": [],
   "source": [
    "from sklearn.feature_extraction.text import CountVectorizer\n",
    "cv =CountVectorizer(max_features = 20000)\n",
    "X = cv.fit_transform(corpus).toarray()\n",
    "y = data[\"label\"].values"
   ]
  },
  {
   "cell_type": "markdown",
   "metadata": {},
   "source": [
    "# Saving cv variable for Testing phase"
   ]
  },
  {
   "cell_type": "code",
   "execution_count": 7,
   "metadata": {},
   "outputs": [],
   "source": [
    "filename = 'cv.pickle'\n",
    "pickle.dump(cv, open(filename, 'wb'))"
   ]
  },
  {
   "cell_type": "markdown",
   "metadata": {},
   "source": [
    "# Split in Samples"
   ]
  },
  {
   "cell_type": "code",
   "execution_count": 9,
   "metadata": {},
   "outputs": [],
   "source": [
    "\n",
    "from sklearn.model_selection import train_test_split\n",
    "X_train, X_test, y_train, y_test = train_test_split(X,y, test_size = 0.20, random_state=0)"
   ]
  },
  {
   "cell_type": "markdown",
   "metadata": {},
   "source": [
    "# Naive Bayes Classifier"
   ]
  },
  {
   "cell_type": "code",
   "execution_count": 8,
   "metadata": {},
   "outputs": [
    {
     "name": "stdout",
     "output_type": "stream",
     "text": [
      "Accuracy of NB  classifier on training set: 94.96\n",
      "Accuracy of NB classifier on test set: 93.92\n"
     ]
    },
    {
     "data": {
      "image/png": "[encoded data removed]",
      "text/plain": [
       "<Figure size 432x288 with 1 Axes>"
      ]
     },
     "metadata": {},
     "output_type": "display_data"
    }
   ],
   "source": [
    "from sklearn.naive_bayes import MultinomialNB\n",
    "\n",
    "NB = MultinomialNB()\n",
    "NB.fit(X_train, y_train)\n",
    "print('Accuracy of NB  classifier on training set: {:.2f}'\n",
    "     .format((NB.score(X_train, y_train)*100)))\n",
    "print('Accuracy of NB classifier on test set: {:.2f}'\n",
    "     .format((NB.score(X_test, y_test)*100)))\n",
    "\n",
    "# Pie chart, where the slices will be ordered and plotted counter-clockwise:\n",
    "labels = 'true', 'false'\n",
    "sizes = [(NB.score(X_test, y_test)*100), 100-((NB.score(X_test, y_test))*100)]\n",
    "explode = (0, 0.1)  # only \"explode\" the 2nd slice (i.e. 'Hogs')\n",
    "\n",
    "fig1, ax1 = plt.subplots()\n",
    "ax1.pie(sizes, explode=explode, labels=labels, autopct='%1.1f%%',\n",
    "        shadow=True, startangle=90)\n",
    "ax1.axis('equal')  # Equal aspect ratio ensures that pie is drawn as a circle.\n",
    "plt.title('Pie_Chart',fontsize=40)\n",
    "plt.show()"
   ]
  },
  {
   "cell_type": "markdown",
   "metadata": {},
   "source": [
    "# Logistic Regression"
   ]
  },
  {
   "cell_type": "code",
   "execution_count": 9,
   "metadata": {},
   "outputs": [
    {
     "name": "stdout",
     "output_type": "stream",
     "text": [
      "Accuracy of Logistic Regression on training set: 94.96\n",
      "Accuracy of Logistic Regression on test set: 95.60\n"
     ]
    },
    {
     "data": {
      "image/png": "[encoded data removed]",
      "text/plain": [
       "<Figure size 432x288 with 1 Axes>"
      ]
     },
     "metadata": {},
     "output_type": "display_data"
    }
   ],
   "source": [
    "from sklearn.linear_model import LogisticRegression\n",
    "logreg = LogisticRegression(C=1e5)\n",
    "logreg.fit(X_train, y_train)\n",
    "print('Accuracy of Logistic Regression on training set: {:.2f}'\n",
    "     .format((NB.score(X_train, y_train)*100)))\n",
    "print('Accuracy of Logistic Regression on test set: {:.2f}'\n",
    "     .format((logreg.score(X_test, y_test)*100)))\n",
    "\n",
    "# Pie chart, where the slices will be ordered and plotted counter-clockwise:\n",
    "labels = 'true', 'false'\n",
    "sizes = [(logreg.score(X_test, y_test)*100), 100-((logreg.score(X_test, y_test))*100)]\n",
    "explode = (0, 0.1)  # only \"explode\" the 2nd slice (i.e. 'Hogs')\n",
    "\n",
    "fig1, ax1 = plt.subplots()\n",
    "ax1.pie(sizes, explode=explode, labels=labels, autopct='%1.1f%%',\n",
    "        shadow=True, startangle=90)\n",
    "ax1.axis('equal')  # Equal aspect ratio ensures that pie is drawn as a circle.\n",
    "plt.title('Pie_Chart',fontsize=40)\n",
    "plt.show()"
   ]
  },
  {
   "cell_type": "markdown",
   "metadata": {},
   "source": [
    "# Random Forest Classifier"
   ]
  },
  {
   "cell_type": "code",
   "execution_count": 10,
   "metadata": {},
   "outputs": [
    {
     "name": "stdout",
     "output_type": "stream",
     "text": [
      "Accuracy of randomforest classifier on training set: 99.10\n",
      "Accuracy of randomforest classifier on test set: 87.88\n"
     ]
    },
    {
     "data": {
      "image/png": "[encoded data removed]",
      "text/plain": [
       "<Figure size 432x288 with 1 Axes>"
      ]
     },
     "metadata": {},
     "output_type": "display_data"
    }
   ],
   "source": [
    "from sklearn.ensemble import RandomForestClassifier\n",
    "Random = RandomForestClassifier(n_estimators=5)\n",
    "\n",
    "Random.fit(X_train, y_train)\n",
    "print('Accuracy of randomforest classifier on training set: {:.2f}'\n",
    "     .format((Random.score(X_train, y_train)*100)))\n",
    "print('Accuracy of randomforest classifier on test set: {:.2f}'\n",
    "     .format((Random.score(X_test, y_test)*100)))\n",
    "\n",
    "# Pie chart, where the slices will be ordered and plotted counter-clockwise:\n",
    "labels = 'true', 'false'\n",
    "sizes = [(Random.score(X_test, y_test)*100), 100-((Random.score(X_test, y_test))*100)]\n",
    "explode = (0, 0.1)  # only \"explode\" the 2nd slice (i.e. 'Hogs')\n",
    "\n",
    "fig1, ax1 = plt.subplots()\n",
    "ax1.pie(sizes, explode=explode, labels=labels, autopct='%1.1f%%',\n",
    "        shadow=True, startangle=90)\n",
    "ax1.axis('equal')  # Equal aspect ratio ensures that pie is drawn as a circle.\n",
    "plt.title('Pie_Chart',fontsize=40)\n",
    "plt.show()"
   ]
  },
  {
   "cell_type": "markdown",
   "metadata": {},
   "source": [
    "# Decision Tree"
   ]
  },
  {
   "cell_type": "code",
   "execution_count": 11,
   "metadata": {},
   "outputs": [
    {
     "name": "stdout",
     "output_type": "stream",
     "text": [
      "Accuracy of Adaboost classifier on training set: 92.44\n",
      "Accuracy of Adaboost classifier on test set: 91.88\n"
     ]
    },
    {
     "data": {
      "image/png": "[encoded data removed]",
      "text/plain": [
       "<Figure size 432x288 with 1 Axes>"
      ]
     },
     "metadata": {},
     "output_type": "display_data"
    }
   ],
   "source": [
    "from sklearn.tree import DecisionTreeClassifier\n",
    "from sklearn.ensemble import AdaBoostClassifier\n",
    "Adab= AdaBoostClassifier(DecisionTreeClassifier(max_depth=3),n_estimators=5)\n",
    "Adab.fit(X_train, y_train)\n",
    "print('Accuracy of Adaboost classifier on training set: {:.2f}'\n",
    "     .format((Adab.score(X_train, y_train)*100)))\n",
    "print('Accuracy of Adaboost classifier on test set: {:.2f}'\n",
    "     .format((Adab.score(X_test, y_test)*100)))\n",
    "\n",
    "# Pie chart, where the slices will be ordered and plotted counter-clockwise:\n",
    "labels = 'true', 'false'\n",
    "sizes = [(Adab.score(X_test, y_test)*100), 100-((Adab.score(X_test, y_test))*100)]\n",
    "explode = (0, 0.1)  # only \"explode\" the 2nd slice (i.e. 'Hogs')\n",
    "\n",
    "fig1, ax1 = plt.subplots()\n",
    "ax1.pie(sizes, explode=explode, labels=labels, autopct='%1.1f%%',\n",
    "        shadow=True, startangle=90)\n",
    "ax1.axis('equal')  # Equal aspect ratio ensures that pie is drawn as a circle.\n",
    "plt.title('Pie_Chart',fontsize=40)\n",
    "plt.show()"
   ]
  },
  {
   "cell_type": "markdown",
   "metadata": {},
   "source": [
    " # K Nearest Neighboer"
   ]
  },
  {
   "cell_type": "code",
   "execution_count": 19,
   "metadata": {},
   "outputs": [
    {
     "name": "stdout",
     "output_type": "stream",
     "text": [
      "Accuracy of KNN on training set: 82.72\n",
      "Accuracy of KNN on test set: 78.17\n"
     ]
    },
    {
     "data": {
      "image/png": "[encoded data removed]",
      "text/plain": [
       "<Figure size 432x288 with 1 Axes>"
      ]
     },
     "metadata": {},
     "output_type": "display_data"
    }
   ],
   "source": [
    "from sklearn.neighbors import KNeighborsClassifier\n",
    "classifier = KNeighborsClassifier(n_neighbors=5)\n",
    "classifier.fit(X_train, y_train)\n",
    "print('Accuracy of KNN on training set: {:.2f}'\n",
    "     .format((classifier.score(X_train, y_train)*100)))\n",
    "print('Accuracy of KNN on test set: {:.2f}'\n",
    "     .format((classifier.score(X_test, y_test)*100)))\n",
    "\n",
    "# Pie chart, where the slices will be ordered and plotted counter-clockwise:\n",
    "labels = 'true', 'false'\n",
    "sizes = [(classifier.score(X_test, y_test)*100), 100-((classifier.score(X_test, y_test))*100)]\n",
    "explode = (0, 0.1)  # only \"explode\" the 2nd slice (i.e. 'Hogs')\n",
    "\n",
    "fig1, ax1 = plt.subplots()\n",
    "ax1.pie(sizes, explode=explode, labels=labels, autopct='%1.1f%%',\n",
    "        shadow=True, startangle=90)\n",
    "ax1.axis('equal')  # Equal aspect ratio ensures that pie is drawn as a circle.\n",
    "plt.title('Pie_Chart',fontsize=40)\n",
    "plt.show()"
   ]
  },
  {
   "cell_type": "markdown",
   "metadata": {},
   "source": [
    " # Support Vector Machine"
   ]
  },
  {
   "cell_type": "code",
   "execution_count": 12,
   "metadata": {},
   "outputs": [
    {
     "name": "stdout",
     "output_type": "stream",
     "text": [
      "Accuracy of SVM on training set: 100.00\n",
      "Accuracy of SVM on test set: 95.12\n"
     ]
    },
    {
     "data": {
      "image/png": "[encoded data removed]",
      "text/plain": [
       "<Figure size 432x288 with 1 Axes>"
      ]
     },
     "metadata": {},
     "output_type": "display_data"
    }
   ],
   "source": [
    "from sklearn import svm\n",
    "\n",
    "clf = svm.SVC(kernel='linear') # Linear Kernel\n",
    "clf.fit(X_train, y_train)\n",
    "print('Accuracy of SVM on training set: {:.2f}'\n",
    "     .format((clf.score(X_train, y_train)*100)))\n",
    "print('Accuracy of SVM on test set: {:.2f}'\n",
    "     .format((clf.score(X_test, y_test)*100)))\n",
    "\n",
    "# Pie chart, where the slices will be ordered and plotted counter-clockwise:\n",
    "labels = 'true', 'false'\n",
    "sizes = [(clf.score(X_test, y_test)*100), 100-((clf.score(X_test, y_test))*100)]\n",
    "explode = (0, 0.1)  # only \"explode\" the 2nd slice (i.e. 'Hogs')\n",
    "\n",
    "fig1, ax1 = plt.subplots()\n",
    "ax1.pie(sizes, explode=explode, labels=labels, autopct='%1.1f%%',\n",
    "        shadow=True, startangle=90)\n",
    "ax1.axis('equal')  # Equal aspect ratio ensures that pie is drawn as a circle.\n",
    "plt.title('Pie_Chart',fontsize=40)\n",
    "plt.show()"
   ]
  },
  {
   "cell_type": "markdown",
   "metadata": {},
   "source": [
    " # Neural Network"
   ]
  },
  {
   "cell_type": "code",
   "execution_count": 10,
   "metadata": {},
   "outputs": [
    {
     "name": "stdout",
     "output_type": "stream",
     "text": [
      "Train on 16639 samples\n",
      "Epoch 1/50\n",
      "16639/16639 - 17s - loss: 0.1638 - accuracy: 0.9495\n",
      "Epoch 2/50\n",
      "16639/16639 - 11s - loss: 0.0336 - accuracy: 0.9910\n",
      "Epoch 3/50\n",
      "16639/16639 - 10s - loss: 0.0213 - accuracy: 0.9953\n",
      "Epoch 4/50\n",
      "16639/16639 - 11s - loss: 0.0074 - accuracy: 0.9986\n",
      "Epoch 5/50\n",
      "16639/16639 - 10s - loss: 0.0040 - accuracy: 0.9994\n",
      "Epoch 6/50\n",
      "16639/16639 - 10s - loss: 0.0018 - accuracy: 0.9999\n",
      "Epoch 7/50\n",
      "16639/16639 - 10s - loss: 9.8853e-04 - accuracy: 0.9999\n",
      "Epoch 8/50\n",
      "16639/16639 - 10s - loss: 6.2268e-04 - accuracy: 0.9999\n",
      "Epoch 9/50\n",
      "16639/16639 - 10s - loss: 4.1646e-04 - accuracy: 1.0000\n",
      "Epoch 10/50\n",
      "16639/16639 - 10s - loss: 2.8352e-04 - accuracy: 1.0000\n",
      "Epoch 11/50\n",
      "16639/16639 - 10s - loss: 2.0169e-04 - accuracy: 1.0000\n",
      "Epoch 12/50\n",
      "16639/16639 - 10s - loss: 1.4370e-04 - accuracy: 1.0000\n",
      "Epoch 13/50\n",
      "16639/16639 - 9s - loss: 1.0389e-04 - accuracy: 1.0000\n",
      "Epoch 14/50\n",
      "16639/16639 - 11s - loss: 7.4614e-05 - accuracy: 1.0000\n",
      "Epoch 15/50\n",
      "16639/16639 - 9s - loss: 5.4606e-05 - accuracy: 1.0000\n",
      "Epoch 16/50\n",
      "16639/16639 - 9s - loss: 4.0134e-05 - accuracy: 1.0000\n",
      "Epoch 17/50\n",
      "16639/16639 - 9s - loss: 2.9559e-05 - accuracy: 1.0000\n",
      "Epoch 18/50\n",
      "16639/16639 - 10s - loss: 2.1804e-05 - accuracy: 1.0000\n",
      "Epoch 19/50\n",
      "16639/16639 - 9s - loss: 1.6070e-05 - accuracy: 1.0000\n",
      "Epoch 20/50\n",
      "16639/16639 - 9s - loss: 1.1999e-05 - accuracy: 1.0000\n",
      "Epoch 21/50\n",
      "16639/16639 - 9s - loss: 8.8895e-06 - accuracy: 1.0000\n",
      "Epoch 22/50\n",
      "16639/16639 - 9s - loss: 6.6393e-06 - accuracy: 1.0000\n",
      "Epoch 23/50\n",
      "16639/16639 - 9s - loss: 4.9453e-06 - accuracy: 1.0000\n",
      "Epoch 24/50\n",
      "16639/16639 - 9s - loss: 3.7216e-06 - accuracy: 1.0000\n",
      "Epoch 25/50\n",
      "16639/16639 - 9s - loss: 2.8165e-06 - accuracy: 1.0000\n",
      "Epoch 26/50\n",
      "16639/16639 - 9s - loss: 2.0959e-06 - accuracy: 1.0000\n",
      "Epoch 27/50\n",
      "16639/16639 - 9s - loss: 1.5866e-06 - accuracy: 1.0000\n",
      "Epoch 28/50\n",
      "16639/16639 - 9s - loss: 1.1934e-06 - accuracy: 1.0000\n",
      "Epoch 29/50\n",
      "16639/16639 - 9s - loss: 8.9894e-07 - accuracy: 1.0000\n",
      "Epoch 30/50\n",
      "16639/16639 - 9s - loss: 6.8683e-07 - accuracy: 1.0000\n",
      "Epoch 31/50\n",
      "16639/16639 - 9s - loss: 5.2230e-07 - accuracy: 1.0000\n",
      "Epoch 32/50\n",
      "16639/16639 - 10s - loss: 3.9509e-07 - accuracy: 1.0000\n",
      "Epoch 33/50\n",
      "16639/16639 - 10s - loss: 3.0460e-07 - accuracy: 1.0000\n",
      "Epoch 34/50\n",
      "16639/16639 - 9s - loss: 2.3296e-07 - accuracy: 1.0000\n",
      "Epoch 35/50\n",
      "16639/16639 - 9s - loss: 1.7835e-07 - accuracy: 1.0000\n",
      "Epoch 36/50\n",
      "16639/16639 - 9s - loss: 1.3819e-07 - accuracy: 1.0000\n",
      "Epoch 37/50\n",
      "16639/16639 - 9s - loss: 1.0716e-07 - accuracy: 1.0000\n",
      "Epoch 38/50\n",
      "16639/16639 - 9s - loss: 8.3398e-08 - accuracy: 1.0000\n",
      "Epoch 39/50\n",
      "16639/16639 - 9s - loss: 6.4587e-08 - accuracy: 1.0000\n",
      "Epoch 40/50\n",
      "16639/16639 - 9s - loss: 5.0518e-08 - accuracy: 1.0000\n",
      "Epoch 41/50\n",
      "16639/16639 - 9s - loss: 3.9834e-08 - accuracy: 1.0000\n",
      "Epoch 42/50\n",
      "16639/16639 - 9s - loss: 3.1367e-08 - accuracy: 1.0000\n",
      "Epoch 43/50\n",
      "16639/16639 - 9s - loss: 2.4862e-08 - accuracy: 1.0000\n",
      "Epoch 44/50\n",
      "16639/16639 - 9s - loss: 1.9781e-08 - accuracy: 1.0000\n",
      "Epoch 45/50\n",
      "16639/16639 - 10s - loss: 1.5873e-08 - accuracy: 1.0000\n",
      "Epoch 46/50\n",
      "16639/16639 - 10s - loss: 1.2792e-08 - accuracy: 1.0000\n",
      "Epoch 47/50\n",
      "16639/16639 - 9s - loss: 1.0423e-08 - accuracy: 1.0000\n",
      "Epoch 48/50\n",
      "16639/16639 - 9s - loss: 8.5671e-09 - accuracy: 1.0000\n",
      "Epoch 49/50\n",
      "16639/16639 - 9s - loss: 7.0890e-09 - accuracy: 1.0000\n",
      "Epoch 50/50\n",
      "16639/16639 - 9s - loss: 5.9605e-09 - accuracy: 1.0000\n",
      " \n",
      " Test Accuracy of Neural Network: 96.875000\n"
     ]
    },
    {
     "data": {
      "image/png": "[encoded data removed]",
      "text/plain": [
       "<Figure size 432x288 with 1 Axes>"
      ]
     },
     "metadata": {},
     "output_type": "display_data"
    }
   ],
   "source": [
    "from tensorflow.keras.models import Sequential\n",
    "from tensorflow.keras.layers import Dense\n",
    "from tensorflow.keras.layers import Dropout\n",
    "\n",
    "model = Sequential()\n",
    "model.add(Dense(50, input_shape=(20000,), activation='relu'))\n",
    "model.add(Dense(1, activation='sigmoid'))\n",
    "# compile network\n",
    "model.compile(loss='binary_crossentropy', optimizer='adam', metrics=['accuracy'])\n",
    "\n",
    "# fit network\n",
    "model.fit(X_train, y_train, epochs=50, verbose=2)\n",
    "\n",
    "# evaluate\n",
    "loss, acc = model.evaluate(X_test, y_test, verbose=0)\n",
    "print(' \\n Test Accuracy of Neural Network: %f' % (acc*100))\n",
    "# Pie chart, where the slices will be ordered and plotted counter-clockwise:\n",
    "labels = 'true', 'false'\n",
    "sizes = [(acc*100), 100-(acc*100)]\n",
    "explode = (0, 0.1)  # only \"explode\" the 2nd slice (i.e. 'Hogs')\n",
    "\n",
    "fig1, ax1 = plt.subplots()\n",
    "ax1.pie(sizes, explode=explode, labels=labels, autopct='%1.1f%%',\n",
    "        shadow=True, startangle=90)\n",
    "ax1.axis('equal')  # Equal aspect ratio ensures that pie is drawn as a circle.\n",
    "plt.title('Pie_Chart',fontsize=40)\n",
    "plt.show()"
   ]
  },
  {
   "cell_type": "code",
   "execution_count": 11,
   "metadata": {},
   "outputs": [],
   "source": [
    "model_json = model.to_json()\n",
    "open('./model_mobilenet.json', 'w+').write(model_json)\n",
    "model.save_weights('./weights_mobilenet.h5')"
   ]
  },
  {
   "cell_type": "code",
   "execution_count": 39,
   "metadata": {},
   "outputs": [
    {
     "name": "stdout",
     "output_type": "stream",
     "text": [
      "Enter text here to check the news weather it's Real or Fake\n",
      "Of course, we now know that this was not the case . Comey was actually saying that it was reviewing the emails in light of “an unrelated case”–which we now know to be Anthony Weiner’s sexting with a teenager. But apparently such little things as facts didn’t matter to Chaffetz. The Utah Republican had already vowed to initiate a raft of investigations if Hillary wins–at least two years’ worth, and possibly an entire term’s worth of them. Apparently Chaffetz thought the FBI was already doing his work for him–resulting in a tweet that briefly roiled the nation before cooler heads realized it was a dud. \n"
     ]
    },
    {
     "data": {
      "text/plain": [
       "array([[1]])"
      ]
     },
     "execution_count": 39,
     "metadata": {},
     "output_type": "execute_result"
    }
   ],
   "source": [
    "from tensorflow.python.keras.models import load_model, model_from_json\n",
    "f = open('./model_mobilenet.json','r')\n",
    "model = model_from_json(f.read())\n",
    "model.load_weights('./weights_mobilenet.h5')\n",
    "\n",
    "def normalize_test(words):\n",
    "    words = remove_non_ascii(words)\n",
    "    words = to_lowercase(words)\n",
    "    words = remove_punctuation(words)\n",
    "    words = replace_numbers(words)\n",
    "    words = remove_stopwords(words)\n",
    "    words = stem_words(words)\n",
    "    words = lemmatize_verbs(words)\n",
    "    words = ' '.join(words)\n",
    "    return words\n",
    "\n",
    "input_str = input(\"Enter text here to check the news weather it's Real or Fake\\n\")\n",
    "input_str =  normalize_test(input_str)\n",
    "x = []\n",
    "x.append(input_str)\n",
    "x = cv.transform(x).toarray()\n",
    "\n",
    "predicted = model.predict_classes(x)\n",
    "predicted"
   ]
  },
  {
   "cell_type": "code",
   "execution_count": 23,
   "metadata": {},
   "outputs": [
    {
     "name": "stdout",
     "output_type": "stream",
     "text": [
      "It looks like Fake News.\n"
     ]
    }
   ],
   "source": [
    "\n",
    "if predicted[0][0]:\n",
    "    print(\"It looks like Fake News.\")\n",
    "# if 0 then\n",
    "else:\n",
    "    print(\"There doesn't seems to be anything wrong with this news.\")"
   ]
  },
  {
   "cell_type": "code",
   "execution_count": null,
   "metadata": {},
   "outputs": [],
   "source": []
  }
 ],
 "metadata": {
  "kernelspec": {
   "display_name": "Python 3",
   "language": "python",
   "name": "python3"
  },
  "language_info": {
   "codemirror_mode": {
    "name": "ipython",
    "version": 3
   },
   "file_extension": ".py",
   "mimetype": "text/x-python",
   "name": "python",
   "nbconvert_exporter": "python",
   "pygments_lexer": "ipython3",
   "version": "3.7.3"
  }
 },
 "nbformat": 4,
 "nbformat_minor": 4
}
